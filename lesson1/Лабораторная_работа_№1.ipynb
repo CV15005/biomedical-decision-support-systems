{
 "cells": [
  {
   "cell_type": "markdown",
   "id": "eaa653f0-3b41-47b5-beae-0a90aeb27707",
   "metadata": {},
   "source": [
    "## Задание\n",
    "Для изображения \"starry_night.jpg\":\n",
    "1. Считать изображение\n",
    "2. Перевести в серошкальный формат\n",
    "3. Провести адаптивную эквализацию гистограммы\n",
    "4. Выделить границы на изображении\n",
    "5. Добавить на изображение элипсы произвольного цвета (использовать random)\n",
    "6. Добавить на изображение лого OpenCV\n",
    "7. Сохранить результат в формате PNG"
   ]
  }
 ],
 "metadata": {
  "kernelspec": {
   "display_name": "Python 3 (ipykernel)",
   "language": "python",
   "name": "python3"
  },
  "language_info": {
   "codemirror_mode": {
    "name": "ipython",
    "version": 3
   },
   "file_extension": ".py",
   "mimetype": "text/x-python",
   "name": "python",
   "nbconvert_exporter": "python",
   "pygments_lexer": "ipython3",
   "version": "3.10.15"
  }
 },
 "nbformat": 4,
 "nbformat_minor": 5
}
